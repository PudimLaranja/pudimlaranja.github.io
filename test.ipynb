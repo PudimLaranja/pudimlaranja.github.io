{
  "cells": [
    {
      "cell_type": "code",
      "execution_count": 2,
      "metadata": {
        "metadata": {}
      },
      "outputs": [
        {
          "ename": "ImportError",
          "evalue": "cannot import name 'def_' from 'lambdex' (c:\\Users\\DEV2023\\AppData\\Local\\Programs\\Python\\Python312\\Lib\\site-packages\\lambdex\\__init__.py)",
          "output_type": "error",
          "traceback": [
            "\u001b[1;31m---------------------------------------------------------------------------\u001b[0m",
            "\u001b[1;31mImportError\u001b[0m                               Traceback (most recent call last)",
            "Cell \u001b[1;32mIn[2], line 90\u001b[0m\n\u001b[0;32m     86\u001b[0m     plt\u001b[38;5;241m.\u001b[39mshow()\n\u001b[0;32m     89\u001b[0m \u001b[38;5;28;01mfrom\u001b[39;00m \u001b[38;5;21;01mIPython\u001b[39;00m\u001b[38;5;21;01m.\u001b[39;00m\u001b[38;5;21;01mdisplay\u001b[39;00m \u001b[38;5;28;01mimport\u001b[39;00m Video\n\u001b[1;32m---> 90\u001b[0m \u001b[38;5;28;01mfrom\u001b[39;00m \u001b[38;5;21;01mlambdex\u001b[39;00m \u001b[38;5;28;01mimport\u001b[39;00m def_\n\u001b[0;32m     92\u001b[0m square \u001b[38;5;241m=\u001b[39m [[\u001b[38;5;241m1\u001b[39m,\u001b[38;5;241m1\u001b[39m],[\u001b[38;5;241m1\u001b[39m,\u001b[38;5;241m-\u001b[39m\u001b[38;5;241m1\u001b[39m],[\u001b[38;5;241m-\u001b[39m\u001b[38;5;241m1\u001b[39m,\u001b[38;5;241m-\u001b[39m\u001b[38;5;241m1\u001b[39m],[\u001b[38;5;241m-\u001b[39m\u001b[38;5;241m1\u001b[39m,\u001b[38;5;241m1\u001b[39m]]\n\u001b[0;32m     94\u001b[0m \u001b[38;5;28;01mfor\u001b[39;00m idx, point \u001b[38;5;129;01min\u001b[39;00m \u001b[38;5;28menumerate\u001b[39m(square):\n",
            "\u001b[1;31mImportError\u001b[0m: cannot import name 'def_' from 'lambdex' (c:\\Users\\DEV2023\\AppData\\Local\\Programs\\Python\\Python312\\Lib\\site-packages\\lambdex\\__init__.py)"
          ]
        },
        {
          "data": {
            "image/png": "[encoded data removed]",
            "text/plain": [
              "<Figure size 1000x500 with 1 Axes>"
            ]
          },
          "metadata": {},
          "output_type": "display_data"
        }
      ],
      "source": [
        "import numpy as np\n",
        "import matplotlib.pyplot as plt\n",
        "from matplotlib.animation import FuncAnimation\n",
        "from matplotlib.animation import FFMpegWriter\n",
        "\n",
        "# Create a figure and axes\n",
        "fig, axes = plt.subplots(figsize=(10, 5))\n",
        "\n",
        "# Set limits\n",
        "axes.set_xlim(-5, 10)\n",
        "axes.set_ylim(-5, 5)\n",
        "\n",
        "# Metadata for the animation\n",
        "metadata = dict(title='Movie', artist='Pudim')\n",
        "\n",
        "__data__ = []\n",
        "\n",
        "class Point:\n",
        "    def __init__(self,x,y) -> None:\n",
        "        self.x = x\n",
        "        self.y = y\n",
        "        self.render, = axes.plot([],[],'o')\n",
        "        self.function = lambda frame,self: self.set(self.x,self.y)\n",
        "        self.set(self.x,self.y)\n",
        "        __data__.append(self)\n",
        "\n",
        "    def __call__(self):\n",
        "        return self.render,\n",
        "\n",
        "    def update(self,func):\n",
        "        self.function = func\n",
        "\n",
        "    def __update__(self,frame):\n",
        "        self.function(frame,self)\n",
        "\n",
        "    def set(self,x,y):\n",
        "        self.x = x\n",
        "        self.y = y\n",
        "        self.render.set_data([x],[y])\n",
        "\n",
        "class Line:\n",
        "    def __init__(self,points,color) -> None:\n",
        "        self.points = points\n",
        "        self.color = color\n",
        "        self.render, = axes.plot([],[],color=self.color)\n",
        "        self.function = lambda frame,self: self.set(self.points)\n",
        "        self.set(self.points)\n",
        "        __data__.append(self)\n",
        "\n",
        "    def __call__(self):\n",
        "        return self.render,\n",
        "\n",
        "    def update(self,func):\n",
        "        self.function = func\n",
        "\n",
        "    def __update__(self,frame):\n",
        "        self.function(frame,self)\n",
        "\n",
        "    def set(self,points):\n",
        "        self.points = points\n",
        "        __x_array__ = []\n",
        "        __y_array__ = []\n",
        "        if self.points[-1] == 'wrap':\n",
        "            self.points[-1] = self.points[0]\n",
        "        for point in self.points:\n",
        "            __x_array__.append(point.x)\n",
        "            __y_array__.append(point.y)\n",
        "        self.render.set_data([__x_array__],[__y_array__])\n",
        "\n",
        "\n",
        "\n",
        "# Function to update the data for each frame\n",
        "def update(frame):\n",
        "    __render_list__ = []\n",
        "    for object in __data__:\n",
        "        object.__update__(frame)\n",
        "        __render_list__.append(object())\n",
        "    return __render_list__,\n",
        "\n",
        "\n",
        "def render():\n",
        "    ani = FuncAnimation(fig, update, frames=np.linspace(0, 100, 100), interval=40, blit=False)\n",
        "    # Save the animation\n",
        "    ani.save('render.mp4', writer=FFMpegWriter(fps=15, metadata=metadata))\n",
        "    # Display the static plot\n",
        "    plt.show()\n",
        "\n",
        "\n",
        "from IPython.display import Video\n",
        "from lambdex import def_\n",
        "\n",
        "square = [[1,1],[1,-1],[-1,-1],[-1,1]]\n",
        "\n",
        "for idx, point in enumerate(square):\n",
        "    square[idx] = Point(point[0],point[1])\n",
        "\n",
        "for idx, point in enumerate(square):\n",
        "    point.update(\n",
        "        lambda frame,self:\n",
        "            self.set(frame + self.x,self.y)\n",
        "    )\n",
        "\n",
        "Line(square+['wrap'],'blue')\n",
        "\n",
        "render()\n",
        "\n"
      ]
    },
    {
      "cell_type": "code",
      "execution_count": null,
      "metadata": {},
      "outputs": [],
      "source": [
        "Video(\"render.mp4\")"
      ]
    }
  ],
  "metadata": {
    "kernelspec": {
      "display_name": "Python 3",
      "language": "python",
      "name": "python3"
    },
    "language_info": {
      "codemirror_mode": {
        "name": "ipython",
        "version": 3
      },
      "file_extension": ".py",
      "mimetype": "text/x-python",
      "name": "python",
      "nbconvert_exporter": "python",
      "pygments_lexer": "ipython3",
      "version": "3.12.2"
    }
  },
  "nbformat": 4,
  "nbformat_minor": 2
}
